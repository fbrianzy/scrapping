{
  "nbformat": 4,
  "nbformat_minor": 0,
  "metadata": {
    "colab": {
      "provenance": []
    },
    "kernelspec": {
      "name": "python3",
      "display_name": "Python 3"
    },
    "language_info": {
      "name": "python"
    }
  },
  "cells": [
    {
      "cell_type": "code",
      "execution_count": null,
      "metadata": {
        "id": "RtfVFuamSBh9"
      },
      "outputs": [],
      "source": [
        "!pip install tweepy"
      ]
    },
    {
      "cell_type": "code",
      "source": [
        "import tweepy\n",
        "import pandas as pd\n",
        "\n",
        "# Twitter API credentials\n",
        "api_key = \"YOUR_API_KEY\"\n",
        "api_key_secret = \"YOUR_API_KEY_SECRET\"\n",
        "access_token = \"YOUR_ACCESS_TOKEN\"\n",
        "access_token_secret = \"YOUR_ACCESS_TOKEN_SECRET\"\n",
        "\n",
        "# Authenticate to Twitter\n",
        "auth = tweepy.OAuthHandler(api_key, api_key_secret)\n",
        "auth.set_access_token(access_token, access_token_secret)\n",
        "\n",
        "# Create API object\n",
        "api = tweepy.API(auth, wait_on_rate_limit=True)\n",
        "\n",
        "# Query pencarian\n",
        "query = \"() lang: since: until:\"\n",
        "\n",
        "# Mendapatkan tweet\n",
        "tweets = tweepy.Cursor(api.search_tweets, q=query, tweet_mode='extended').items(100)\n",
        "\n",
        "# Ekstrak tweet ke dalam list\n",
        "tweets_list = [[tweet.id_str, tweet.created_at, tweet.full_text, tweet.user.screen_name, tweet.favorite_count, tweet.retweet_count] for tweet in tweets]\n",
        "\n",
        "# Buat dataframe dari tweet list\n",
        "tweets_df = pd.DataFrame(tweets_list, columns=['ID', 'Created At', 'Tweet', 'Username', 'Likes', 'Retweets'])\n",
        "\n",
        "# Menyimpan ke CSV\n",
        "tweets_df.to_csv('tweets_output.csv', index=False)\n",
        "\n",
        "# Menampilkan dataframe\n",
        "print(tweets_df)\n"
      ],
      "metadata": {
        "id": "jIs_i0zWSF4x"
      },
      "execution_count": null,
      "outputs": []
    }
  ]
}