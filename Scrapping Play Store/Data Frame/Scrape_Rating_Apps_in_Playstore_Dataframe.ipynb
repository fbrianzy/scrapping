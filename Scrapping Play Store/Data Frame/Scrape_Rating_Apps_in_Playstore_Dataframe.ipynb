{
  "nbformat": 4,
  "nbformat_minor": 0,
  "metadata": {
    "colab": {
      "provenance": []
    },
    "kernelspec": {
      "name": "python3",
      "display_name": "Python 3"
    },
    "language_info": {
      "name": "python"
    }
  },
  "cells": [
    {
      "cell_type": "code",
      "execution_count": null,
      "metadata": {
        "id": "QokQ8g0mivf5"
      },
      "outputs": [],
      "source": [
        "!pip install google-play-scraper"
      ]
    },
    {
      "cell_type": "code",
      "source": [
        "from google_play_scraper import app\n",
        "import pandas as pd\n",
        "import numpy as np"
      ],
      "metadata": {
        "id": "rrqLrNfIjPZu"
      },
      "execution_count": null,
      "outputs": []
    },
    {
      "cell_type": "code",
      "source": [
        "from google_play_scraper import Sort, reviews\n",
        "\n",
        "result, continuation_token = reviews(\n",
        "    'com.', # Use apps id to scrape target apps\n",
        "    lang='id', # Use your language\n",
        "    country='id', # Use your country\n",
        "    sort=Sort.MOST_RELEVANT,\n",
        "    count=1000, # You can modify this with the amount of data you want to retrieve\n",
        "    filter_score_with=None # You can use to filter with rating 1,2,3,4 or 5 or use None to get all\n",
        ")"
      ],
      "metadata": {
        "id": "1AfTIZbzjdKx"
      },
      "execution_count": null,
      "outputs": []
    },
    {
      "cell_type": "code",
      "source": [
        "df_busu = pd.DataFrame(np.array(result), columns=['review'])\n",
        "df_busu = df_busu.join(pd.DataFrame(df_busu.pop('review').tolist()))\n",
        "df_busu.head()"
      ],
      "metadata": {
        "id": "CnlEt4oRkJnE"
      },
      "execution_count": null,
      "outputs": []
    },
    {
      "cell_type": "code",
      "source": [
        "len(df_busu.index)"
      ],
      "metadata": {
        "id": "Sjpvdn9iktwo"
      },
      "execution_count": null,
      "outputs": []
    },
    {
      "cell_type": "code",
      "source": [
        "df_busu[['userName', 'score', 'at', 'content']].head()"
      ],
      "metadata": {
        "id": "jY1TNZFYk-2w"
      },
      "execution_count": null,
      "outputs": []
    },
    {
      "cell_type": "code",
      "source": [
        "new_df = df_busu[['userName', 'score', 'at', 'content']]\n",
        "sorted_df = new_df.sort_values(by='at', ascending=False)\n",
        "sorted_df.head()"
      ],
      "metadata": {
        "id": "aR4GgVIXln_i"
      },
      "execution_count": null,
      "outputs": []
    },
    {
      "cell_type": "code",
      "source": [
        "my_df = sorted_df[['userName', 'score', 'at', 'content']]"
      ],
      "metadata": {
        "id": "gmEA_N8JmD3m"
      },
      "execution_count": null,
      "outputs": []
    },
    {
      "cell_type": "code",
      "source": [
        "my_df = my_df[['content', 'score']]"
      ],
      "metadata": {
        "id": "HlU8DpccmPnr"
      },
      "execution_count": null,
      "outputs": []
    },
    {
      "cell_type": "code",
      "source": [
        "my_df.head()"
      ],
      "metadata": {
        "id": "hK1wXeeUmW08"
      },
      "execution_count": null,
      "outputs": []
    },
    {
      "cell_type": "code",
      "source": [
        "def labelling(score):\n",
        "  if score < 3:\n",
        "    return 'Negative'\n",
        "  elif score == 4:\n",
        "    return 'Positive'\n",
        "  elif score == 5:\n",
        "    return 'Positive'\n",
        "\n",
        "my_df['Label'] = my_df['score'].apply(labelling)\n",
        "my_df.head(50)"
      ],
      "metadata": {
        "id": "MdBdzdugmwNN"
      },
      "execution_count": null,
      "outputs": []
    },
    {
      "cell_type": "code",
      "source": [
        "my_df.to_csv('scrapped_data.csv', index=False)"
      ],
      "metadata": {
        "id": "--JYNU1jo8JD"
      },
      "execution_count": null,
      "outputs": []
    },
    {
      "cell_type": "code",
      "source": [
        "pd.set_option('display.max_column', None)\n",
        "my_df = pd.read_csv('/content/scrapped_data.csv')\n",
        "my_df.head(50)"
      ],
      "metadata": {
        "id": "DFLX0dYQpIc7"
      },
      "execution_count": null,
      "outputs": []
    },
    {
      "cell_type": "code",
      "source": [
        "my_df.info()"
      ],
      "metadata": {
        "id": "W5QluNdZpfHr"
      },
      "execution_count": null,
      "outputs": []
    },
    {
      "cell_type": "code",
      "source": [
        "my_df.isna()"
      ],
      "metadata": {
        "id": "HP3iIIMKpvkU"
      },
      "execution_count": null,
      "outputs": []
    },
    {
      "cell_type": "code",
      "source": [
        "my_df.isna().any()"
      ],
      "metadata": {
        "id": "5rk-SswLp4rM"
      },
      "execution_count": null,
      "outputs": []
    },
    {
      "cell_type": "code",
      "source": [
        "my_df.describe()"
      ],
      "metadata": {
        "id": "XcQhsdccp9cK"
      },
      "execution_count": null,
      "outputs": []
    },
    {
      "cell_type": "code",
      "source": [
        "my_df.isnull().sum()"
      ],
      "metadata": {
        "id": "V6MAOy9VqHTp"
      },
      "execution_count": null,
      "outputs": []
    },
    {
      "cell_type": "code",
      "source": [
        "my_df.dropna(subset=['Label'], inplace = True)"
      ],
      "metadata": {
        "id": "P1rg9ze0rc9j"
      },
      "execution_count": null,
      "outputs": []
    },
    {
      "cell_type": "code",
      "source": [
        "my_df.isnull().sum()"
      ],
      "metadata": {
        "id": "2RN36romr2VE"
      },
      "execution_count": null,
      "outputs": []
    },
    {
      "cell_type": "code",
      "source": [
        "my_df.head(50)"
      ],
      "metadata": {
        "id": "-RGYoYTTr36J"
      },
      "execution_count": null,
      "outputs": []
    },
    {
      "cell_type": "code",
      "source": [
        "my_df.to_csv('name-apps.csv', index=False)"
      ],
      "metadata": {
        "id": "TElfy88ssBzl"
      },
      "execution_count": null,
      "outputs": []
    }
  ]
}